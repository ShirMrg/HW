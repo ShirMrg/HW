{
 "cells": [
  {
   "cell_type": "markdown",
   "metadata": {},
   "source": [
    "# Identify:\n",
    "\n",
    "Please fill-in your ID in the following cell, **only id numbers, no names!**\n"
   ]
  },
  {
   "cell_type": "code",
   "execution_count": 212,
   "metadata": {},
   "outputs": [],
   "source": [
    "id1 = \"207045816\""
   ]
  },
  {
   "cell_type": "code",
   "execution_count": 213,
   "metadata": {},
   "outputs": [],
   "source": [
    "df = pd.DataFrame([id1])"
   ]
  },
  {
   "cell_type": "markdown",
   "metadata": {},
   "source": [
    "Uncomment in case two students are doing the assignment together:"
   ]
  },
  {
   "cell_type": "code",
   "execution_count": 214,
   "metadata": {},
   "outputs": [],
   "source": [
    "#df = pd.DataFrame([id1,id2])"
   ]
  },
  {
   "cell_type": "code",
   "execution_count": 215,
   "metadata": {},
   "outputs": [],
   "source": [
    "df.to_clipboard(index=False,header=False)"
   ]
  },
  {
   "cell_type": "markdown",
   "metadata": {},
   "source": [
    "Please fill your names here:"
   ]
  },
  {
   "cell_type": "markdown",
   "metadata": {},
   "source": [
    "Shir Margolin"
   ]
  },
  {
   "cell_type": "markdown",
   "metadata": {},
   "source": [
    "---"
   ]
  },
  {
   "cell_type": "markdown",
   "metadata": {},
   "source": [
    "----"
   ]
  },
  {
   "cell_type": "markdown",
   "metadata": {},
   "source": [
    "# Write your answers here\n",
    "\n",
    "add as much lines of code and markdown as you need for each answer"
   ]
  },
  {
   "cell_type": "markdown",
   "metadata": {
    "tags": []
   },
   "source": [
    "# Q1 "
   ]
  },
  {
   "cell_type": "markdown",
   "metadata": {},
   "source": [
    "\n",
    "קישור הקובץ"
   ]
  },
  {
   "cell_type": "code",
   "execution_count": 216,
   "metadata": {},
   "outputs": [],
   "source": [
    "import pandas as pd\n",
    "url='https://raw.githubusercontent.com/owid/covid-19-data/master/public/data/vaccinations/vaccinations.csv'\n",
    "vacc_df=pd.read_csv(url)"
   ]
  },
  {
   "cell_type": "markdown",
   "metadata": {},
   "source": [
    "נהפוך תאריך לשדה מסוג תאריך"
   ]
  },
  {
   "cell_type": "code",
   "execution_count": 217,
   "metadata": {},
   "outputs": [],
   "source": [
    "vacc_df['date']= pd.to_datetime(vacc_df.date)"
   ]
  },
  {
   "cell_type": "markdown",
   "metadata": {},
   "source": [
    "ניצור עמודה חדשה שמכילה חודש"
   ]
  },
  {
   "cell_type": "code",
   "execution_count": 218,
   "metadata": {},
   "outputs": [],
   "source": [
    "vacc_df['month'] = pd.DatetimeIndex(vacc_df['date']).month"
   ]
  },
  {
   "cell_type": "markdown",
   "metadata": {},
   "source": [
    "ניצור קובץ חדש שמכיל רק את החודש 6\n",
    "(עותק ולא השמה)"
   ]
  },
  {
   "cell_type": "code",
   "execution_count": 219,
   "metadata": {},
   "outputs": [],
   "source": [
    "vacc_df_6= vacc_df[vacc_df['month'] ==6].copy()"
   ]
  },
  {
   "cell_type": "markdown",
   "metadata": {},
   "source": [
    "שינוי שם העמודה מחודש ל-החודש שלי"
   ]
  },
  {
   "cell_type": "code",
   "execution_count": 220,
   "metadata": {},
   "outputs": [
    {
     "data": {
      "text/html": [
       "<div>\n",
       "<style scoped>\n",
       "    .dataframe tbody tr th:only-of-type {\n",
       "        vertical-align: middle;\n",
       "    }\n",
       "\n",
       "    .dataframe tbody tr th {\n",
       "        vertical-align: top;\n",
       "    }\n",
       "\n",
       "    .dataframe thead th {\n",
       "        text-align: right;\n",
       "    }\n",
       "</style>\n",
       "<table border=\"1\" class=\"dataframe\">\n",
       "  <thead>\n",
       "    <tr style=\"text-align: right;\">\n",
       "      <th></th>\n",
       "      <th>location</th>\n",
       "      <th>iso_code</th>\n",
       "      <th>date</th>\n",
       "      <th>total_vaccinations</th>\n",
       "      <th>people_vaccinated</th>\n",
       "      <th>people_fully_vaccinated</th>\n",
       "      <th>total_boosters</th>\n",
       "      <th>daily_vaccinations_raw</th>\n",
       "      <th>daily_vaccinations</th>\n",
       "      <th>total_vaccinations_per_hundred</th>\n",
       "      <th>people_vaccinated_per_hundred</th>\n",
       "      <th>people_fully_vaccinated_per_hundred</th>\n",
       "      <th>total_boosters_per_hundred</th>\n",
       "      <th>daily_vaccinations_per_million</th>\n",
       "      <th>my_month</th>\n",
       "    </tr>\n",
       "  </thead>\n",
       "  <tbody>\n",
       "    <tr>\n",
       "      <th>99</th>\n",
       "      <td>Afghanistan</td>\n",
       "      <td>AFG</td>\n",
       "      <td>2021-06-01</td>\n",
       "      <td>NaN</td>\n",
       "      <td>NaN</td>\n",
       "      <td>NaN</td>\n",
       "      <td>NaN</td>\n",
       "      <td>NaN</td>\n",
       "      <td>5102.0</td>\n",
       "      <td>NaN</td>\n",
       "      <td>NaN</td>\n",
       "      <td>NaN</td>\n",
       "      <td>NaN</td>\n",
       "      <td>131.0</td>\n",
       "      <td>6</td>\n",
       "    </tr>\n",
       "    <tr>\n",
       "      <th>100</th>\n",
       "      <td>Afghanistan</td>\n",
       "      <td>AFG</td>\n",
       "      <td>2021-06-02</td>\n",
       "      <td>626290.0</td>\n",
       "      <td>481690.0</td>\n",
       "      <td>144600.0</td>\n",
       "      <td>NaN</td>\n",
       "      <td>NaN</td>\n",
       "      <td>5119.0</td>\n",
       "      <td>1.61</td>\n",
       "      <td>1.24</td>\n",
       "      <td>0.37</td>\n",
       "      <td>NaN</td>\n",
       "      <td>131.0</td>\n",
       "      <td>6</td>\n",
       "    </tr>\n",
       "    <tr>\n",
       "      <th>101</th>\n",
       "      <td>Afghanistan</td>\n",
       "      <td>AFG</td>\n",
       "      <td>2021-06-03</td>\n",
       "      <td>630305.0</td>\n",
       "      <td>481800.0</td>\n",
       "      <td>148505.0</td>\n",
       "      <td>NaN</td>\n",
       "      <td>4015.0</td>\n",
       "      <td>5285.0</td>\n",
       "      <td>1.62</td>\n",
       "      <td>1.24</td>\n",
       "      <td>0.38</td>\n",
       "      <td>NaN</td>\n",
       "      <td>136.0</td>\n",
       "      <td>6</td>\n",
       "    </tr>\n",
       "    <tr>\n",
       "      <th>102</th>\n",
       "      <td>Afghanistan</td>\n",
       "      <td>AFG</td>\n",
       "      <td>2021-06-04</td>\n",
       "      <td>NaN</td>\n",
       "      <td>NaN</td>\n",
       "      <td>NaN</td>\n",
       "      <td>NaN</td>\n",
       "      <td>NaN</td>\n",
       "      <td>5273.0</td>\n",
       "      <td>NaN</td>\n",
       "      <td>NaN</td>\n",
       "      <td>NaN</td>\n",
       "      <td>NaN</td>\n",
       "      <td>135.0</td>\n",
       "      <td>6</td>\n",
       "    </tr>\n",
       "    <tr>\n",
       "      <th>103</th>\n",
       "      <td>Afghanistan</td>\n",
       "      <td>AFG</td>\n",
       "      <td>2021-06-05</td>\n",
       "      <td>NaN</td>\n",
       "      <td>NaN</td>\n",
       "      <td>NaN</td>\n",
       "      <td>NaN</td>\n",
       "      <td>NaN</td>\n",
       "      <td>5261.0</td>\n",
       "      <td>NaN</td>\n",
       "      <td>NaN</td>\n",
       "      <td>NaN</td>\n",
       "      <td>NaN</td>\n",
       "      <td>135.0</td>\n",
       "      <td>6</td>\n",
       "    </tr>\n",
       "    <tr>\n",
       "      <th>...</th>\n",
       "      <td>...</td>\n",
       "      <td>...</td>\n",
       "      <td>...</td>\n",
       "      <td>...</td>\n",
       "      <td>...</td>\n",
       "      <td>...</td>\n",
       "      <td>...</td>\n",
       "      <td>...</td>\n",
       "      <td>...</td>\n",
       "      <td>...</td>\n",
       "      <td>...</td>\n",
       "      <td>...</td>\n",
       "      <td>...</td>\n",
       "      <td>...</td>\n",
       "      <td>...</td>\n",
       "    </tr>\n",
       "    <tr>\n",
       "      <th>40282</th>\n",
       "      <td>Zimbabwe</td>\n",
       "      <td>ZWE</td>\n",
       "      <td>2021-06-26</td>\n",
       "      <td>1249486.0</td>\n",
       "      <td>747328.0</td>\n",
       "      <td>502158.0</td>\n",
       "      <td>NaN</td>\n",
       "      <td>27591.0</td>\n",
       "      <td>16169.0</td>\n",
       "      <td>8.41</td>\n",
       "      <td>5.03</td>\n",
       "      <td>3.38</td>\n",
       "      <td>NaN</td>\n",
       "      <td>1088.0</td>\n",
       "      <td>6</td>\n",
       "    </tr>\n",
       "    <tr>\n",
       "      <th>40283</th>\n",
       "      <td>Zimbabwe</td>\n",
       "      <td>ZWE</td>\n",
       "      <td>2021-06-27</td>\n",
       "      <td>1275237.0</td>\n",
       "      <td>756289.0</td>\n",
       "      <td>518948.0</td>\n",
       "      <td>NaN</td>\n",
       "      <td>25751.0</td>\n",
       "      <td>19504.0</td>\n",
       "      <td>8.58</td>\n",
       "      <td>5.09</td>\n",
       "      <td>3.49</td>\n",
       "      <td>NaN</td>\n",
       "      <td>1312.0</td>\n",
       "      <td>6</td>\n",
       "    </tr>\n",
       "    <tr>\n",
       "      <th>40284</th>\n",
       "      <td>Zimbabwe</td>\n",
       "      <td>ZWE</td>\n",
       "      <td>2021-06-28</td>\n",
       "      <td>1299132.0</td>\n",
       "      <td>764246.0</td>\n",
       "      <td>534886.0</td>\n",
       "      <td>NaN</td>\n",
       "      <td>23895.0</td>\n",
       "      <td>22615.0</td>\n",
       "      <td>8.74</td>\n",
       "      <td>5.14</td>\n",
       "      <td>3.60</td>\n",
       "      <td>NaN</td>\n",
       "      <td>1522.0</td>\n",
       "      <td>6</td>\n",
       "    </tr>\n",
       "    <tr>\n",
       "      <th>40285</th>\n",
       "      <td>Zimbabwe</td>\n",
       "      <td>ZWE</td>\n",
       "      <td>2021-06-29</td>\n",
       "      <td>1315575.0</td>\n",
       "      <td>770707.0</td>\n",
       "      <td>544868.0</td>\n",
       "      <td>NaN</td>\n",
       "      <td>16443.0</td>\n",
       "      <td>24174.0</td>\n",
       "      <td>8.85</td>\n",
       "      <td>5.19</td>\n",
       "      <td>3.67</td>\n",
       "      <td>NaN</td>\n",
       "      <td>1626.0</td>\n",
       "      <td>6</td>\n",
       "    </tr>\n",
       "    <tr>\n",
       "      <th>40286</th>\n",
       "      <td>Zimbabwe</td>\n",
       "      <td>ZWE</td>\n",
       "      <td>2021-06-30</td>\n",
       "      <td>1332416.0</td>\n",
       "      <td>777159.0</td>\n",
       "      <td>555257.0</td>\n",
       "      <td>NaN</td>\n",
       "      <td>16841.0</td>\n",
       "      <td>23656.0</td>\n",
       "      <td>8.96</td>\n",
       "      <td>5.23</td>\n",
       "      <td>3.74</td>\n",
       "      <td>NaN</td>\n",
       "      <td>1592.0</td>\n",
       "      <td>6</td>\n",
       "    </tr>\n",
       "  </tbody>\n",
       "</table>\n",
       "<p>6756 rows × 15 columns</p>\n",
       "</div>"
      ],
      "text/plain": [
       "          location iso_code       date  total_vaccinations  people_vaccinated  \\\n",
       "99     Afghanistan      AFG 2021-06-01                 NaN                NaN   \n",
       "100    Afghanistan      AFG 2021-06-02            626290.0           481690.0   \n",
       "101    Afghanistan      AFG 2021-06-03            630305.0           481800.0   \n",
       "102    Afghanistan      AFG 2021-06-04                 NaN                NaN   \n",
       "103    Afghanistan      AFG 2021-06-05                 NaN                NaN   \n",
       "...            ...      ...        ...                 ...                ...   \n",
       "40282     Zimbabwe      ZWE 2021-06-26           1249486.0           747328.0   \n",
       "40283     Zimbabwe      ZWE 2021-06-27           1275237.0           756289.0   \n",
       "40284     Zimbabwe      ZWE 2021-06-28           1299132.0           764246.0   \n",
       "40285     Zimbabwe      ZWE 2021-06-29           1315575.0           770707.0   \n",
       "40286     Zimbabwe      ZWE 2021-06-30           1332416.0           777159.0   \n",
       "\n",
       "       people_fully_vaccinated  total_boosters  daily_vaccinations_raw  \\\n",
       "99                         NaN             NaN                     NaN   \n",
       "100                   144600.0             NaN                     NaN   \n",
       "101                   148505.0             NaN                  4015.0   \n",
       "102                        NaN             NaN                     NaN   \n",
       "103                        NaN             NaN                     NaN   \n",
       "...                        ...             ...                     ...   \n",
       "40282                 502158.0             NaN                 27591.0   \n",
       "40283                 518948.0             NaN                 25751.0   \n",
       "40284                 534886.0             NaN                 23895.0   \n",
       "40285                 544868.0             NaN                 16443.0   \n",
       "40286                 555257.0             NaN                 16841.0   \n",
       "\n",
       "       daily_vaccinations  total_vaccinations_per_hundred  \\\n",
       "99                 5102.0                             NaN   \n",
       "100                5119.0                            1.61   \n",
       "101                5285.0                            1.62   \n",
       "102                5273.0                             NaN   \n",
       "103                5261.0                             NaN   \n",
       "...                   ...                             ...   \n",
       "40282             16169.0                            8.41   \n",
       "40283             19504.0                            8.58   \n",
       "40284             22615.0                            8.74   \n",
       "40285             24174.0                            8.85   \n",
       "40286             23656.0                            8.96   \n",
       "\n",
       "       people_vaccinated_per_hundred  people_fully_vaccinated_per_hundred  \\\n",
       "99                               NaN                                  NaN   \n",
       "100                             1.24                                 0.37   \n",
       "101                             1.24                                 0.38   \n",
       "102                              NaN                                  NaN   \n",
       "103                              NaN                                  NaN   \n",
       "...                              ...                                  ...   \n",
       "40282                           5.03                                 3.38   \n",
       "40283                           5.09                                 3.49   \n",
       "40284                           5.14                                 3.60   \n",
       "40285                           5.19                                 3.67   \n",
       "40286                           5.23                                 3.74   \n",
       "\n",
       "       total_boosters_per_hundred  daily_vaccinations_per_million  my_month  \n",
       "99                            NaN                           131.0         6  \n",
       "100                           NaN                           131.0         6  \n",
       "101                           NaN                           136.0         6  \n",
       "102                           NaN                           135.0         6  \n",
       "103                           NaN                           135.0         6  \n",
       "...                           ...                             ...       ...  \n",
       "40282                         NaN                          1088.0         6  \n",
       "40283                         NaN                          1312.0         6  \n",
       "40284                         NaN                          1522.0         6  \n",
       "40285                         NaN                          1626.0         6  \n",
       "40286                         NaN                          1592.0         6  \n",
       "\n",
       "[6756 rows x 15 columns]"
      ]
     },
     "execution_count": 220,
     "metadata": {},
     "output_type": "execute_result"
    }
   ],
   "source": [
    "vacc_df_6.rename(columns={\"month\" : \"my_month\"})"
   ]
  },
  {
   "cell_type": "markdown",
   "metadata": {},
   "source": [
    "ספירת מס השורות בעזרת LEN"
   ]
  },
  {
   "cell_type": "code",
   "execution_count": 221,
   "metadata": {},
   "outputs": [
    {
     "data": {
      "text/plain": [
       "6756"
      ]
     },
     "execution_count": 221,
     "metadata": {},
     "output_type": "execute_result"
    }
   ],
   "source": [
    "len(vacc_df_6)"
   ]
  },
  {
   "cell_type": "markdown",
   "metadata": {},
   "source": [
    " # Q2"
   ]
  },
  {
   "cell_type": "markdown",
   "metadata": {},
   "source": [
    "לא היה רשום לטפל בעותק שמכיל רק את \"החודש שלי\", אז אצור עוד עותק של נתונים מתוקנים"
   ]
  },
  {
   "cell_type": "markdown",
   "metadata": {},
   "source": [
    "# טיפול בערכים חסרים מהשדה- חיסונים יומיים \n",
    "החלטתי לטופל בצורת הכנסת ערך 0 בכל ערך חסר בעמודה.\n",
    "בגלל שהגיוני שלא בכל יום מתחסנים ומחסנים במדינות מסויימות, בגלל ימי חג, חופש,מחסור בחיסונים וכ\"ו\n",
    "וסביר להסיק שבשביל לזרז את עבודת הדיווח, בימים אלו לא מילאו את העמודה המדוברת"
   ]
  },
  {
   "cell_type": "code",
   "execution_count": 222,
   "metadata": {},
   "outputs": [],
   "source": [
    "vacc_df_fixed=vacc_df.copy()\n",
    "vacc_df_fixed['daily_vaccinations'].fillna(0 , inplace = True)"
   ]
  },
  {
   "cell_type": "markdown",
   "metadata": {},
   "source": [
    "# טיפול בערכים חסרים מהשדה- מחוסנים ל100\n",
    "החלטתי לטופל בצורת הכנסת הערך הקודם לכל ערך חסר בעמודה.\n",
    "בגלל שלא הגיוני שהיו מחוסנים לפני ולא יום אחרי(ערך מצטבר), ולכן רוב הסיכויים ששחכו להכניס ערכים, או שהחליטו להכניס אותם רק כשהיה שינוי משמעותי"
   ]
  },
  {
   "cell_type": "code",
   "execution_count": 223,
   "metadata": {},
   "outputs": [
    {
     "data": {
      "text/html": [
       "<div>\n",
       "<style scoped>\n",
       "    .dataframe tbody tr th:only-of-type {\n",
       "        vertical-align: middle;\n",
       "    }\n",
       "\n",
       "    .dataframe tbody tr th {\n",
       "        vertical-align: top;\n",
       "    }\n",
       "\n",
       "    .dataframe thead th {\n",
       "        text-align: right;\n",
       "    }\n",
       "</style>\n",
       "<table border=\"1\" class=\"dataframe\">\n",
       "  <thead>\n",
       "    <tr style=\"text-align: right;\">\n",
       "      <th></th>\n",
       "      <th>location</th>\n",
       "      <th>iso_code</th>\n",
       "      <th>date</th>\n",
       "      <th>total_vaccinations</th>\n",
       "      <th>people_vaccinated</th>\n",
       "      <th>people_fully_vaccinated</th>\n",
       "      <th>total_boosters</th>\n",
       "      <th>daily_vaccinations_raw</th>\n",
       "      <th>daily_vaccinations</th>\n",
       "      <th>total_vaccinations_per_hundred</th>\n",
       "      <th>people_vaccinated_per_hundred</th>\n",
       "      <th>people_fully_vaccinated_per_hundred</th>\n",
       "      <th>total_boosters_per_hundred</th>\n",
       "      <th>daily_vaccinations_per_million</th>\n",
       "      <th>month</th>\n",
       "    </tr>\n",
       "  </thead>\n",
       "  <tbody>\n",
       "    <tr>\n",
       "      <th>0</th>\n",
       "      <td>Afghanistan</td>\n",
       "      <td>AFG</td>\n",
       "      <td>2021-02-22</td>\n",
       "      <td>0.0</td>\n",
       "      <td>0.0</td>\n",
       "      <td>NaN</td>\n",
       "      <td>NaN</td>\n",
       "      <td>NaN</td>\n",
       "      <td>0.0</td>\n",
       "      <td>0.00</td>\n",
       "      <td>0.00</td>\n",
       "      <td>NaN</td>\n",
       "      <td>NaN</td>\n",
       "      <td>NaN</td>\n",
       "      <td>2</td>\n",
       "    </tr>\n",
       "    <tr>\n",
       "      <th>1</th>\n",
       "      <td>Afghanistan</td>\n",
       "      <td>AFG</td>\n",
       "      <td>2021-02-23</td>\n",
       "      <td>NaN</td>\n",
       "      <td>NaN</td>\n",
       "      <td>NaN</td>\n",
       "      <td>NaN</td>\n",
       "      <td>NaN</td>\n",
       "      <td>1367.0</td>\n",
       "      <td>NaN</td>\n",
       "      <td>0.00</td>\n",
       "      <td>NaN</td>\n",
       "      <td>NaN</td>\n",
       "      <td>35.0</td>\n",
       "      <td>2</td>\n",
       "    </tr>\n",
       "    <tr>\n",
       "      <th>2</th>\n",
       "      <td>Afghanistan</td>\n",
       "      <td>AFG</td>\n",
       "      <td>2021-02-24</td>\n",
       "      <td>NaN</td>\n",
       "      <td>NaN</td>\n",
       "      <td>NaN</td>\n",
       "      <td>NaN</td>\n",
       "      <td>NaN</td>\n",
       "      <td>1367.0</td>\n",
       "      <td>NaN</td>\n",
       "      <td>0.00</td>\n",
       "      <td>NaN</td>\n",
       "      <td>NaN</td>\n",
       "      <td>35.0</td>\n",
       "      <td>2</td>\n",
       "    </tr>\n",
       "    <tr>\n",
       "      <th>3</th>\n",
       "      <td>Afghanistan</td>\n",
       "      <td>AFG</td>\n",
       "      <td>2021-02-25</td>\n",
       "      <td>NaN</td>\n",
       "      <td>NaN</td>\n",
       "      <td>NaN</td>\n",
       "      <td>NaN</td>\n",
       "      <td>NaN</td>\n",
       "      <td>1367.0</td>\n",
       "      <td>NaN</td>\n",
       "      <td>0.00</td>\n",
       "      <td>NaN</td>\n",
       "      <td>NaN</td>\n",
       "      <td>35.0</td>\n",
       "      <td>2</td>\n",
       "    </tr>\n",
       "    <tr>\n",
       "      <th>4</th>\n",
       "      <td>Afghanistan</td>\n",
       "      <td>AFG</td>\n",
       "      <td>2021-02-26</td>\n",
       "      <td>NaN</td>\n",
       "      <td>NaN</td>\n",
       "      <td>NaN</td>\n",
       "      <td>NaN</td>\n",
       "      <td>NaN</td>\n",
       "      <td>1367.0</td>\n",
       "      <td>NaN</td>\n",
       "      <td>0.00</td>\n",
       "      <td>NaN</td>\n",
       "      <td>NaN</td>\n",
       "      <td>35.0</td>\n",
       "      <td>2</td>\n",
       "    </tr>\n",
       "    <tr>\n",
       "      <th>...</th>\n",
       "      <td>...</td>\n",
       "      <td>...</td>\n",
       "      <td>...</td>\n",
       "      <td>...</td>\n",
       "      <td>...</td>\n",
       "      <td>...</td>\n",
       "      <td>...</td>\n",
       "      <td>...</td>\n",
       "      <td>...</td>\n",
       "      <td>...</td>\n",
       "      <td>...</td>\n",
       "      <td>...</td>\n",
       "      <td>...</td>\n",
       "      <td>...</td>\n",
       "      <td>...</td>\n",
       "    </tr>\n",
       "    <tr>\n",
       "      <th>40325</th>\n",
       "      <td>Zimbabwe</td>\n",
       "      <td>ZWE</td>\n",
       "      <td>2021-08-08</td>\n",
       "      <td>2886551.0</td>\n",
       "      <td>1863913.0</td>\n",
       "      <td>1022638.0</td>\n",
       "      <td>NaN</td>\n",
       "      <td>33154.0</td>\n",
       "      <td>61908.0</td>\n",
       "      <td>19.42</td>\n",
       "      <td>12.54</td>\n",
       "      <td>6.88</td>\n",
       "      <td>NaN</td>\n",
       "      <td>4165.0</td>\n",
       "      <td>8</td>\n",
       "    </tr>\n",
       "    <tr>\n",
       "      <th>40326</th>\n",
       "      <td>Zimbabwe</td>\n",
       "      <td>ZWE</td>\n",
       "      <td>2021-08-09</td>\n",
       "      <td>2941508.0</td>\n",
       "      <td>1897123.0</td>\n",
       "      <td>1044385.0</td>\n",
       "      <td>NaN</td>\n",
       "      <td>54957.0</td>\n",
       "      <td>66884.0</td>\n",
       "      <td>19.79</td>\n",
       "      <td>12.76</td>\n",
       "      <td>7.03</td>\n",
       "      <td>NaN</td>\n",
       "      <td>4500.0</td>\n",
       "      <td>8</td>\n",
       "    </tr>\n",
       "    <tr>\n",
       "      <th>40327</th>\n",
       "      <td>Zimbabwe</td>\n",
       "      <td>ZWE</td>\n",
       "      <td>2021-08-10</td>\n",
       "      <td>NaN</td>\n",
       "      <td>NaN</td>\n",
       "      <td>NaN</td>\n",
       "      <td>NaN</td>\n",
       "      <td>NaN</td>\n",
       "      <td>53633.0</td>\n",
       "      <td>NaN</td>\n",
       "      <td>12.76</td>\n",
       "      <td>NaN</td>\n",
       "      <td>NaN</td>\n",
       "      <td>3609.0</td>\n",
       "      <td>8</td>\n",
       "    </tr>\n",
       "    <tr>\n",
       "      <th>40328</th>\n",
       "      <td>Zimbabwe</td>\n",
       "      <td>ZWE</td>\n",
       "      <td>2021-08-11</td>\n",
       "      <td>3017341.0</td>\n",
       "      <td>1932929.0</td>\n",
       "      <td>1084412.0</td>\n",
       "      <td>NaN</td>\n",
       "      <td>NaN</td>\n",
       "      <td>59050.0</td>\n",
       "      <td>20.30</td>\n",
       "      <td>13.01</td>\n",
       "      <td>7.30</td>\n",
       "      <td>NaN</td>\n",
       "      <td>3973.0</td>\n",
       "      <td>8</td>\n",
       "    </tr>\n",
       "    <tr>\n",
       "      <th>40329</th>\n",
       "      <td>Zimbabwe</td>\n",
       "      <td>ZWE</td>\n",
       "      <td>2021-08-12</td>\n",
       "      <td>3193256.0</td>\n",
       "      <td>2013049.0</td>\n",
       "      <td>1180207.0</td>\n",
       "      <td>NaN</td>\n",
       "      <td>175915.0</td>\n",
       "      <td>58465.0</td>\n",
       "      <td>21.48</td>\n",
       "      <td>13.54</td>\n",
       "      <td>7.94</td>\n",
       "      <td>NaN</td>\n",
       "      <td>3934.0</td>\n",
       "      <td>8</td>\n",
       "    </tr>\n",
       "  </tbody>\n",
       "</table>\n",
       "<p>40330 rows × 15 columns</p>\n",
       "</div>"
      ],
      "text/plain": [
       "          location iso_code       date  total_vaccinations  people_vaccinated  \\\n",
       "0      Afghanistan      AFG 2021-02-22                 0.0                0.0   \n",
       "1      Afghanistan      AFG 2021-02-23                 NaN                NaN   \n",
       "2      Afghanistan      AFG 2021-02-24                 NaN                NaN   \n",
       "3      Afghanistan      AFG 2021-02-25                 NaN                NaN   \n",
       "4      Afghanistan      AFG 2021-02-26                 NaN                NaN   \n",
       "...            ...      ...        ...                 ...                ...   \n",
       "40325     Zimbabwe      ZWE 2021-08-08           2886551.0          1863913.0   \n",
       "40326     Zimbabwe      ZWE 2021-08-09           2941508.0          1897123.0   \n",
       "40327     Zimbabwe      ZWE 2021-08-10                 NaN                NaN   \n",
       "40328     Zimbabwe      ZWE 2021-08-11           3017341.0          1932929.0   \n",
       "40329     Zimbabwe      ZWE 2021-08-12           3193256.0          2013049.0   \n",
       "\n",
       "       people_fully_vaccinated  total_boosters  daily_vaccinations_raw  \\\n",
       "0                          NaN             NaN                     NaN   \n",
       "1                          NaN             NaN                     NaN   \n",
       "2                          NaN             NaN                     NaN   \n",
       "3                          NaN             NaN                     NaN   \n",
       "4                          NaN             NaN                     NaN   \n",
       "...                        ...             ...                     ...   \n",
       "40325                1022638.0             NaN                 33154.0   \n",
       "40326                1044385.0             NaN                 54957.0   \n",
       "40327                      NaN             NaN                     NaN   \n",
       "40328                1084412.0             NaN                     NaN   \n",
       "40329                1180207.0             NaN                175915.0   \n",
       "\n",
       "       daily_vaccinations  total_vaccinations_per_hundred  \\\n",
       "0                     0.0                            0.00   \n",
       "1                  1367.0                             NaN   \n",
       "2                  1367.0                             NaN   \n",
       "3                  1367.0                             NaN   \n",
       "4                  1367.0                             NaN   \n",
       "...                   ...                             ...   \n",
       "40325             61908.0                           19.42   \n",
       "40326             66884.0                           19.79   \n",
       "40327             53633.0                             NaN   \n",
       "40328             59050.0                           20.30   \n",
       "40329             58465.0                           21.48   \n",
       "\n",
       "       people_vaccinated_per_hundred  people_fully_vaccinated_per_hundred  \\\n",
       "0                               0.00                                  NaN   \n",
       "1                               0.00                                  NaN   \n",
       "2                               0.00                                  NaN   \n",
       "3                               0.00                                  NaN   \n",
       "4                               0.00                                  NaN   \n",
       "...                              ...                                  ...   \n",
       "40325                          12.54                                 6.88   \n",
       "40326                          12.76                                 7.03   \n",
       "40327                          12.76                                  NaN   \n",
       "40328                          13.01                                 7.30   \n",
       "40329                          13.54                                 7.94   \n",
       "\n",
       "       total_boosters_per_hundred  daily_vaccinations_per_million  month  \n",
       "0                             NaN                             NaN      2  \n",
       "1                             NaN                            35.0      2  \n",
       "2                             NaN                            35.0      2  \n",
       "3                             NaN                            35.0      2  \n",
       "4                             NaN                            35.0      2  \n",
       "...                           ...                             ...    ...  \n",
       "40325                         NaN                          4165.0      8  \n",
       "40326                         NaN                          4500.0      8  \n",
       "40327                         NaN                          3609.0      8  \n",
       "40328                         NaN                          3973.0      8  \n",
       "40329                         NaN                          3934.0      8  \n",
       "\n",
       "[40330 rows x 15 columns]"
      ]
     },
     "execution_count": 223,
     "metadata": {},
     "output_type": "execute_result"
    }
   ],
   "source": [
    "vacc_df_fixed['people_vaccinated_per_hundred'].fillna(inplace = True,method='ffill')\n",
    "vacc_df_fixed"
   ]
  },
  {
   "cell_type": "markdown",
   "metadata": {},
   "source": [
    "# Q3"
   ]
  },
  {
   "cell_type": "markdown",
   "metadata": {},
   "source": [
    "הסתכלתי בטבלה וראיתי שמיקום שמכיל את הצירוף\n",
    "OWID  \n",
    "iso_code -ב \n",
    "הוא לא מדינה, ולכן נכין עותק חדש, שמכיל רק מדינות "
   ]
  },
  {
   "cell_type": "code",
   "execution_count": 224,
   "metadata": {},
   "outputs": [],
   "source": [
    "vacc_df_6_countries=vacc_df_6[vacc_df_6['iso_code'].str.contains(pat='OWID')==False].copy()"
   ]
  },
  {
   "cell_type": "markdown",
   "metadata": {},
   "source": [
    "נמצא את הערך מקסימלי בעמודה: חיסונים יומיים(השמה)"
   ]
  },
  {
   "cell_type": "code",
   "execution_count": 225,
   "metadata": {},
   "outputs": [],
   "source": [
    "max_daily_vaccinations=vacc_df_6_countries['daily_vaccinations'].max()"
   ]
  },
  {
   "cell_type": "markdown",
   "metadata": {},
   "source": [
    "נציג את שם המדינה והתאריך של אותה עמודה"
   ]
  },
  {
   "cell_type": "code",
   "execution_count": 226,
   "metadata": {},
   "outputs": [
    {
     "data": {
      "text/html": [
       "<div>\n",
       "<style scoped>\n",
       "    .dataframe tbody tr th:only-of-type {\n",
       "        vertical-align: middle;\n",
       "    }\n",
       "\n",
       "    .dataframe tbody tr th {\n",
       "        vertical-align: top;\n",
       "    }\n",
       "\n",
       "    .dataframe thead th {\n",
       "        text-align: right;\n",
       "    }\n",
       "</style>\n",
       "<table border=\"1\" class=\"dataframe\">\n",
       "  <thead>\n",
       "    <tr style=\"text-align: right;\">\n",
       "      <th></th>\n",
       "      <th>location</th>\n",
       "      <th>date</th>\n",
       "    </tr>\n",
       "  </thead>\n",
       "  <tbody>\n",
       "    <tr>\n",
       "      <th>7407</th>\n",
       "      <td>China</td>\n",
       "      <td>2021-06-28</td>\n",
       "    </tr>\n",
       "  </tbody>\n",
       "</table>\n",
       "</div>"
      ],
      "text/plain": [
       "     location       date\n",
       "7407    China 2021-06-28"
      ]
     },
     "execution_count": 226,
     "metadata": {},
     "output_type": "execute_result"
    }
   ],
   "source": [
    "vacc_df_6_countries.loc[vacc_df_6_countries['daily_vaccinations']==max_daily_vaccinations,['location','date']]"
   ]
  },
  {
   "cell_type": "markdown",
   "metadata": {},
   "source": [
    "# Q4"
   ]
  },
  {
   "cell_type": "markdown",
   "metadata": {},
   "source": [
    "כמו שביקשו בשאלה, נשתמש בעותק שמכיל רק את החודש שלי"
   ]
  },
  {
   "cell_type": "markdown",
   "metadata": {},
   "source": [
    "נכין 2 ערכים של ממוצע וחציון מהעמודה חיסונים יומיים ונאכלס אותם במשתנים(השמה)"
   ]
  },
  {
   "cell_type": "code",
   "execution_count": 227,
   "metadata": {},
   "outputs": [
    {
     "name": "stdout",
     "output_type": "stream",
     "text": [
      "median= 9635.0 , mean= 687009.2106978812\n"
     ]
    }
   ],
   "source": [
    "daily_vaccinations_mean=vacc_df_6['daily_vaccinations'].mean()\n",
    "daily_vaccinations_median=vacc_df_6['daily_vaccinations'].median()\n",
    "print('median= '+ str(daily_vaccinations_median) + ' , mean= '+ str(daily_vaccinations_mean))"
   ]
  },
  {
   "cell_type": "markdown",
   "metadata": {},
   "source": [
    "הממוצע גדול מהחציון, כנראה בגלל שקיימים הרבה קצוות של ערכים ריקים, או ששווים 0, שמשפיעים על הערך האמצעי"
   ]
  },
  {
   "cell_type": "markdown",
   "metadata": {},
   "source": [
    "# Q5"
   ]
  },
  {
   "cell_type": "markdown",
   "metadata": {},
   "source": [
    " נכין את עותק של טבלת הנתונים של החודש שלי, כך שהיא תכיל רק דיווחים ממדינת ישראל"
   ]
  },
  {
   "cell_type": "code",
   "execution_count": 232,
   "metadata": {},
   "outputs": [],
   "source": [
    "vacc_df_6_ISR =vacc_df_6[vacc_df_6['location'] == 'Israel'].copy()"
   ]
  },
  {
   "cell_type": "markdown",
   "metadata": {},
   "source": [
    "נשנה את סוג העמודה של התאריך לתאריך"
   ]
  },
  {
   "cell_type": "code",
   "execution_count": 233,
   "metadata": {},
   "outputs": [],
   "source": [
    "vacc_df_6_ISR['date']= pd.to_datetime(vacc_df_6_ISR.date)"
   ]
  },
  {
   "cell_type": "markdown",
   "metadata": {},
   "source": [
    "נוסיף עמודה שמראה את היום"
   ]
  },
  {
   "cell_type": "code",
   "execution_count": 234,
   "metadata": {},
   "outputs": [],
   "source": [
    "vacc_df_6_ISR['day'] =pd.DatetimeIndex(vacc_df_6_ISR['date']).day"
   ]
  },
  {
   "cell_type": "markdown",
   "metadata": {},
   "source": [
    "נעשה ממוצע: כשנתייחס רק לשורות בהם היום מ1 עד 7, ולעמודה מתחסנים למאה איש"
   ]
  },
  {
   "cell_type": "code",
   "execution_count": 235,
   "metadata": {},
   "outputs": [
    {
     "data": {
      "text/plain": [
       "63.065714285714286"
      ]
     },
     "execution_count": 235,
     "metadata": {},
     "output_type": "execute_result"
    }
   ],
   "source": [
    "vaccinated_per_hundred_mean= vacc_df_6_ISR.loc[(vacc_df_6_ISR['day'] <= 7) & (vacc_df_6_ISR['day'] >= 1),'people_vaccinated_per_hundred'].mean()\n",
    "vaccinated_per_hundred_mean"
   ]
  },
  {
   "cell_type": "markdown",
   "metadata": {},
   "source": [
    "# Q6"
   ]
  },
  {
   "cell_type": "markdown",
   "metadata": {},
   "source": [
    "כמו שביקשו בשאלה, נשתמש בעותק שמכיל רק את החודש שלי, ורק מדינות\n",
    "נחשב 3 ערכי מקסימום, בחיסונים למאה איש"
   ]
  },
  {
   "cell_type": "code",
   "execution_count": 210,
   "metadata": {},
   "outputs": [
    {
     "data": {
      "text/plain": [
       "14060    116.46\n",
       "14055    116.38\n",
       "14052    116.27\n",
       "Name: people_vaccinated_per_hundred, dtype: float64"
      ]
     },
     "execution_count": 210,
     "metadata": {},
     "output_type": "execute_result"
    }
   ],
   "source": [
    "vacc_df_6_countries['people_vaccinated_per_hundred'].nlargest(3)"
   ]
  },
  {
   "cell_type": "markdown",
   "metadata": {},
   "source": [
    "נכין רשימה עם כל ערכי המקסימום"
   ]
  },
  {
   "cell_type": "code",
   "execution_count": 236,
   "metadata": {},
   "outputs": [],
   "source": [
    "max_list = [116.46,116.38,116.27]"
   ]
  },
  {
   "cell_type": "markdown",
   "metadata": {},
   "source": [
    "נציג רק שורות שהערך שלהם בחיסונים למאה איש, קיים ברשימה, ורק את העמודות: מיקום, חודש , ומתחסנים למאה"
   ]
  },
  {
   "cell_type": "code",
   "execution_count": 240,
   "metadata": {},
   "outputs": [
    {
     "data": {
      "text/html": [
       "<div>\n",
       "<style scoped>\n",
       "    .dataframe tbody tr th:only-of-type {\n",
       "        vertical-align: middle;\n",
       "    }\n",
       "\n",
       "    .dataframe tbody tr th {\n",
       "        vertical-align: top;\n",
       "    }\n",
       "\n",
       "    .dataframe thead th {\n",
       "        text-align: right;\n",
       "    }\n",
       "</style>\n",
       "<table border=\"1\" class=\"dataframe\">\n",
       "  <thead>\n",
       "    <tr style=\"text-align: right;\">\n",
       "      <th></th>\n",
       "      <th>location</th>\n",
       "      <th>month</th>\n",
       "      <th>people_vaccinated_per_hundred</th>\n",
       "    </tr>\n",
       "  </thead>\n",
       "  <tbody>\n",
       "    <tr>\n",
       "      <th>14052</th>\n",
       "      <td>Gibraltar</td>\n",
       "      <td>6</td>\n",
       "      <td>116.27</td>\n",
       "    </tr>\n",
       "    <tr>\n",
       "      <th>14055</th>\n",
       "      <td>Gibraltar</td>\n",
       "      <td>6</td>\n",
       "      <td>116.38</td>\n",
       "    </tr>\n",
       "    <tr>\n",
       "      <th>14060</th>\n",
       "      <td>Gibraltar</td>\n",
       "      <td>6</td>\n",
       "      <td>116.46</td>\n",
       "    </tr>\n",
       "  </tbody>\n",
       "</table>\n",
       "</div>"
      ],
      "text/plain": [
       "        location  month  people_vaccinated_per_hundred\n",
       "14052  Gibraltar      6                         116.27\n",
       "14055  Gibraltar      6                         116.38\n",
       "14060  Gibraltar      6                         116.46"
      ]
     },
     "execution_count": 240,
     "metadata": {},
     "output_type": "execute_result"
    }
   ],
   "source": [
    "vacc_df_6_countries.loc[vacc_df_6_countries['people_vaccinated_per_hundred'].isin(max_list)           \n",
    ",['location','month','people_vaccinated_per_hundred']]"
   ]
  },
  {
   "cell_type": "markdown",
   "metadata": {},
   "source": [
    "# Q7"
   ]
  },
  {
   "cell_type": "code",
   "execution_count": null,
   "metadata": {},
   "outputs": [],
   "source": []
  },
  {
   "cell_type": "markdown",
   "metadata": {},
   "source": [
    "---\n",
    "# GOOD LUCK !!!!\n",
    "---"
   ]
  },
  {
   "cell_type": "code",
   "execution_count": null,
   "metadata": {},
   "outputs": [],
   "source": [
    "# do not type below this line"
   ]
  }
 ],
 "metadata": {
  "kernelspec": {
   "display_name": "Python 3 (ipykernel)",
   "language": "python",
   "name": "python3"
  },
  "language_info": {
   "codemirror_mode": {
    "name": "ipython",
    "version": 3
   },
   "file_extension": ".py",
   "mimetype": "text/x-python",
   "name": "python",
   "nbconvert_exporter": "python",
   "pygments_lexer": "ipython3",
   "version": "3.9.6"
  }
 },
 "nbformat": 4,
 "nbformat_minor": 4
}
